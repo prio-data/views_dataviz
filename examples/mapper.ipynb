{
 "cells": [
  {
   "cell_type": "code",
   "execution_count": 16,
   "id": "wired-trinity",
   "metadata": {},
   "outputs": [],
   "source": [
    "import geopandas as gpd\n",
    "import pandas as pd\n",
    "import numpy as np\n",
    "import matplotlib.pyplot as plt\n",
    "\n",
    "from views_dataviz.map import mapper, utils\n",
    "from views_dataviz import color\n",
    "\n",
    "import sqlalchemy as sa\n",
    "from ingester3.config import source_db_path"
   ]
  },
  {
   "cell_type": "markdown",
   "id": "atomic-processor",
   "metadata": {},
   "source": [
    "# Mapping examples"
   ]
  },
  {
   "cell_type": "markdown",
   "id": "conditional-consciousness",
   "metadata": {},
   "source": [
    "This notebook shows how the `Mapper` can be used in your projects. \n",
    "\n",
    "We'll first walk through some steps to illustrate the logic. You can also skip to a section that is directly relevant to you:\n",
    "\n",
    "1. [The basics](#basics)\n",
    "1. [Adding layers](#layering)\n",
    "1. [Adding a colorbar](#colorbar)\n",
    "1. [Further customization](#customization)\n",
    "1. [Mapping presets](#presets)"
   ]
  },
  {
   "cell_type": "markdown",
   "id": "d5b7b275-e813-41ad-8fc5-24bf2fa3dca4",
   "metadata": {},
   "source": [
    "For illustration, we're getting the country table from db into a GeoDataFrame limited to Africa. We then add mock random predictions and make it as if from month_id 500."
   ]
  },
  {
   "cell_type": "code",
   "execution_count": 17,
   "id": "ddbe2687-e73f-46be-8f7f-d1eda387e8d9",
   "metadata": {},
   "outputs": [],
   "source": [
    "engine = sa.create_engine(source_db_path)\n",
    "gdf = gpd.GeoDataFrame.from_postgis(\n",
    "    \"SELECT id, geom FROM prod.country WHERE in_africa=1\", engine, geom_col='geom'\n",
    ")\n",
    "gdf = gdf.to_crs(4326) \n",
    "gdf[\"preds\"] = np.random.uniform(low=0, high=1, size=len(gdf))\n",
    "gdf[\"month_id\"] = 500"
   ]
  },
  {
   "cell_type": "markdown",
   "id": "artificial-therapy",
   "metadata": {},
   "source": [
    "Here's an example of how to generate a typical ViEWS map, using a mapping preset."
   ]
  },
  {
   "cell_type": "code",
   "execution_count": null,
   "id": "present-festival",
   "metadata": {},
   "outputs": [],
   "source": [
    "from views_dataviz.map.presets import ViewsAfrica\n",
    "\n",
    "m = ViewsAfrica(\n",
    "    label=f\"preds\\nr_2021_08_01\",\n",
    "    title=\"2021-8\",\n",
    "    scale=\"logodds\",\n",
    ").add_layer(\n",
    "    gdf.loc[gdf.month_id==500],\n",
    "    edgecolor=\"black\",\n",
    "    linewidth=0.5,\n",
    "    column=\"preds\",\n",
    ")"
   ]
  },
  {
   "cell_type": "markdown",
   "id": "everyday-finger",
   "metadata": {},
   "source": [
    "<a id=\"basics\"></a>\n",
    "## Basics\n",
    "___\n",
    "The `Mapper` class allows you to customize any layer you want, at any point of \"layeredness\". The following goes through the basics to illustrate this idea."
   ]
  },
  {
   "cell_type": "markdown",
   "id": "medium-secretariat",
   "metadata": {},
   "source": [
    "Initialize a mapper instance with `Mapper`."
   ]
  },
  {
   "cell_type": "code",
   "execution_count": null,
   "id": "recorded-produce",
   "metadata": {},
   "outputs": [],
   "source": [
    "?mapper.Mapper"
   ]
  },
  {
   "cell_type": "markdown",
   "id": "portuguese-extraction",
   "metadata": {},
   "source": [
    "When you instantiate Mapper without any additional layers in a notebook, it returns an empty frame with a default title. The Mapper instance is set up with some overarching attributes relevant to the figure:"
   ]
  },
  {
   "cell_type": "code",
   "execution_count": null,
   "id": "smoking-subdivision",
   "metadata": {},
   "outputs": [],
   "source": [
    "example = mapper.Mapper(\n",
    "    width=10, \n",
    "    height=10,\n",
    "    bbox=[-18.5, 52.0, -35.5, 38.0],  # xmin, xmax, ymin, ymax for African mainland.\n",
    "    frame_on=True,\n",
    "    title=\"example\",\n",
    ")\n",
    "example.__dict__"
   ]
  },
  {
   "cell_type": "markdown",
   "id": "sought-convenience",
   "metadata": {},
   "source": [
    "To save your map at any stage, use `save`:"
   ]
  },
  {
   "cell_type": "code",
   "execution_count": null,
   "id": "threatened-plaza",
   "metadata": {},
   "outputs": [],
   "source": [
    "example.save(\"./empty_example.png\")"
   ]
  },
  {
   "cell_type": "markdown",
   "id": "appreciated-boxing",
   "metadata": {},
   "source": [
    "<a id=\"layering\"></a>\n",
    "## Adding layers\n",
    "___"
   ]
  },
  {
   "cell_type": "markdown",
   "id": "persistent-found",
   "metadata": {},
   "source": [
    "We can now start adding our layers into this frame with the `add_layer` method, which takes a GeoDataFrame, a cmap (either a string, or a matplotlib ColorMap), and any keyword-arguments that can be supplied to the `plot` method on a geopandas GeoDataFrame. You can also supply `inform_colorbar` to set or override a colorbar automatically with information from the layer - this will be illustrated later. Preview the map so far with `.fig`.\n",
    "> *Note: You can use any GeoDataFrame here. The Mapper does not expect any particular ids, or crs.*"
   ]
  },
  {
   "cell_type": "code",
   "execution_count": null,
   "id": "equivalent-handling",
   "metadata": {},
   "outputs": [],
   "source": [
    "?mapper.Mapper.add_layer"
   ]
  },
  {
   "cell_type": "code",
   "execution_count": null,
   "id": "muslim-fluid",
   "metadata": {},
   "outputs": [],
   "source": [
    "example = example.add_layer(\n",
    "    gdf=gdf.loc[gdf.month_id==500],\n",
    "    cmap=\"cividis\",\n",
    "    edgecolor=\"black\",\n",
    "    linewidth=0.5,\n",
    "    column=\"preds\",\n",
    ")\n",
    "example.fig"
   ]
  },
  {
   "cell_type": "markdown",
   "id": "adjustable-roommate",
   "metadata": {},
   "source": [
    "Stack layers simply with additional `add_layer` calls, for instance when you want to add a marker. Use `zorder` if you need the adjust the order of the layers at any point."
   ]
  },
  {
   "cell_type": "code",
   "execution_count": null,
   "id": "chinese-combine",
   "metadata": {},
   "outputs": [],
   "source": [
    "example = example.add_layer(\n",
    "    gdf=gdf.loc[(gdf.month_id==500) & (gdf.preds > .8)].geometry.centroid,\n",
    "    marker=\"*\",\n",
    "    markersize=100,\n",
    "    color=\"firebrick\"\n",
    ")\n",
    "example.fig"
   ]
  },
  {
   "cell_type": "markdown",
   "id": "rough-button",
   "metadata": {},
   "source": [
    "<a id=\"colorbar\"></a>\n",
    "## Adding a colorbar\n",
    "___"
   ]
  },
  {
   "cell_type": "markdown",
   "id": "behind-rates",
   "metadata": {},
   "source": [
    "With respect to the colorbar, you have various options. One is to use the `legend` parameter when adding a layer. This however sets up a colorbar that is not equal in height to the figure frame:"
   ]
  },
  {
   "cell_type": "code",
   "execution_count": null,
   "id": "floral-productivity",
   "metadata": {},
   "outputs": [],
   "source": [
    "mapper.Mapper(\n",
    "    width=10, \n",
    "    height=10,\n",
    "    bbox=[-18.5, 52.0, -35.5, 38.0],  # xmin, xmax, ymin, ymax for African mainland.\n",
    "    frame_on=True,\n",
    "    title=\"example\",\n",
    ").add_layer(\n",
    "    gdf=gdf.loc[gdf.month_id==500],\n",
    "    cmap=\"cividis\",\n",
    "    edgecolor=\"black\",\n",
    "    linewidth=0.5,\n",
    "    column=\"preds\",\n",
    "    legend=True\n",
    ")"
   ]
  },
  {
   "cell_type": "markdown",
   "id": "sharing-vault",
   "metadata": {},
   "source": [
    "GeoPandas's suggested solution is to add a custom ax instead, and add a colorbar to that. The `add_colorbar` method allows you to do so. Note that in this case you have to provide the cmap, vmin, and vmax. "
   ]
  },
  {
   "cell_type": "code",
   "execution_count": null,
   "id": "hungry-sentence",
   "metadata": {},
   "outputs": [],
   "source": [
    "?mapper.Mapper.add_colorbar"
   ]
  },
  {
   "cell_type": "code",
   "execution_count": null,
   "id": "prescription-covering",
   "metadata": {},
   "outputs": [],
   "source": [
    "mapper.Mapper(\n",
    "    width=10, \n",
    "    height=10,\n",
    "    bbox=[-18.5, 52.0, -35.5, 38.0],  # xmin, xmax, ymin, ymax for African mainland.\n",
    "    frame_on=True,\n",
    "    title=\"example\",\n",
    ").add_layer(\n",
    "    gdf=gdf.loc[gdf.month_id==500],\n",
    "    cmap=\"cividis\",\n",
    "    edgecolor=\"black\",\n",
    "    linewidth=0.5,\n",
    "    column=\"preds\",\n",
    ").add_colorbar(\n",
    "    cmap=\"cividis\", \n",
    "    vmin=gdf.loc[gdf.month_id==500, \"preds\"].min(),\n",
    "    vmax=gdf.loc[gdf.month_id==500, \"preds\"].max(),\n",
    ")"
   ]
  },
  {
   "cell_type": "markdown",
   "id": "canadian-retailer",
   "metadata": {},
   "source": [
    "The `add_colorbar` method gives you full control over the colorbar. Alternatively, you can simply set a default colorbar to the min-max range of the series plotted with the `inform_colorbar` argument of the `add_layer` method:"
   ]
  },
  {
   "cell_type": "code",
   "execution_count": null,
   "id": "catholic-controversy",
   "metadata": {},
   "outputs": [],
   "source": [
    "example = mapper.Mapper(\n",
    "    width=10, \n",
    "    height=10,\n",
    "    bbox=[-18.5, 52.0, -35.5, 38.0],  # xmin, xmax, ymin, ymax for African mainland.\n",
    "    frame_on=True,\n",
    "    title=\"example\",\n",
    ").add_layer(\n",
    "    gdf=gdf.loc[gdf.month_id==500],\n",
    "    cmap=\"cividis\",\n",
    "    edgecolor=\"black\",\n",
    "    linewidth=0.5,\n",
    "    column=\"preds\",\n",
    "    inform_colorbar=True,\n",
    ")"
   ]
  },
  {
   "cell_type": "markdown",
   "id": "turkish-papua",
   "metadata": {},
   "source": [
    "<a id=\"customization\"></a>\n",
    "## Further customization\n",
    "___"
   ]
  },
  {
   "cell_type": "markdown",
   "id": "scheduled-council",
   "metadata": {},
   "source": [
    "### Ax"
   ]
  },
  {
   "cell_type": "markdown",
   "id": "occasional-snake",
   "metadata": {},
   "source": [
    "Note that you can retrieve the ax from your instance at any stage, and perform operations on and with that as usual in matplotlib. For instance:"
   ]
  },
  {
   "cell_type": "code",
   "execution_count": null,
   "id": "surface-while",
   "metadata": {},
   "outputs": [],
   "source": [
    "ax = example.ax\n",
    "ax.set_title(\"custom title\", size=25)\n",
    "example.fig"
   ]
  },
  {
   "cell_type": "markdown",
   "id": "cordless-authority",
   "metadata": {},
   "source": [
    "### Colorbar"
   ]
  },
  {
   "cell_type": "markdown",
   "id": "scheduled-reunion",
   "metadata": {},
   "source": [
    "While `add_colorbar` gives control over the colorbar's customization, you may want to make changes after it's already set. You do this manually using the `cax` and `cbar` attributes, for instance:"
   ]
  },
  {
   "cell_type": "code",
   "execution_count": null,
   "id": "exclusive-letter",
   "metadata": {},
   "outputs": [],
   "source": [
    "example.cbar.set_ticks([.3, .6, .9])\n",
    "example.cbar.set_ticklabels([\"3 USD\", \"6 USD\", \"9 USD\"])"
   ]
  },
  {
   "cell_type": "code",
   "execution_count": null,
   "id": "golden-outline",
   "metadata": {},
   "outputs": [],
   "source": [
    "example.fig"
   ]
  },
  {
   "cell_type": "markdown",
   "id": "tender-fellow",
   "metadata": {},
   "source": [
    "### Adding a custom title"
   ]
  },
  {
   "cell_type": "markdown",
   "id": "settled-allocation",
   "metadata": {},
   "source": [
    "`add_title` allows you to set a custom title directly onto the instance, which overrides the default."
   ]
  },
  {
   "cell_type": "code",
   "execution_count": null,
   "id": "plastic-folder",
   "metadata": {},
   "outputs": [],
   "source": [
    "?mapper.Mapper.add_title"
   ]
  },
  {
   "cell_type": "code",
   "execution_count": null,
   "id": "placed-incident",
   "metadata": {},
   "outputs": [],
   "source": [
    "example = example.add_title(title=\"2021-8\", size=25)\n",
    "example.fig"
   ]
  },
  {
   "cell_type": "markdown",
   "id": "outstanding-steel",
   "metadata": {},
   "source": [
    "### Adding a \"ViEWS textbox\""
   ]
  },
  {
   "cell_type": "code",
   "execution_count": null,
   "id": "narrow-banner",
   "metadata": {},
   "outputs": [],
   "source": [
    "?mapper.Mapper.add_views_textbox"
   ]
  },
  {
   "cell_type": "code",
   "execution_count": null,
   "id": "deadly-capacity",
   "metadata": {},
   "outputs": [],
   "source": [
    "example = example.add_views_textbox(\n",
    "    text=\"preds\\nr_2021_08_01\", \n",
    "    textsize=16\n",
    ")\n",
    "example.fig"
   ]
  },
  {
   "cell_type": "markdown",
   "id": "dress-defendant",
   "metadata": {},
   "source": [
    "### Basemaps"
   ]
  },
  {
   "cell_type": "markdown",
   "id": "raised-workplace",
   "metadata": {},
   "source": [
    "Add a basemap with `add_basemap`. This uses contextily, for details please see: https://contextily.readthedocs.io/en/latest/, with default source set to `ctx.providers.CartoDB.Voyager`."
   ]
  },
  {
   "cell_type": "code",
   "execution_count": null,
   "id": "democratic-bulletin",
   "metadata": {},
   "outputs": [],
   "source": [
    "?mapper.Mapper.add_basemap"
   ]
  },
  {
   "cell_type": "code",
   "execution_count": null,
   "id": "collect-matter",
   "metadata": {},
   "outputs": [],
   "source": [
    "example = example.add_basemap()\n",
    "example.fig"
   ]
  },
  {
   "cell_type": "markdown",
   "id": "5ed16b4e-fcee-4e84-bba0-c792042d855d",
   "metadata": {},
   "source": [
    "<a id=\"presets\"></a>\n",
    "## Mapping presets\n",
    "___"
   ]
  },
  {
   "cell_type": "markdown",
   "id": "b9957645-15da-4edf-b63b-5638c575fa6c",
   "metadata": {},
   "source": [
    "You can make mapping presets by inheriting from the `Mapper` class. Presets make it easy to share pre-defined looks between projects."
   ]
  },
  {
   "cell_type": "markdown",
   "id": "bd519cb4-5e6e-4db3-b3b5-85790950b969",
   "metadata": {},
   "source": [
    "Presets are currently collected in `views_dataviz/map/presets/views.py`, and can be imported as in the example at the top of this notebook. See for instance the standard preset used for ViEWS maps focused on Africa:"
   ]
  },
  {
   "cell_type": "code",
   "execution_count": 20,
   "id": "41e873a2-efb1-4c86-996e-2d874c87c10e",
   "metadata": {},
   "outputs": [
    {
     "data": {
      "text/plain": [
       "\u001b[0;31mInit signature:\u001b[0m\n",
       "\u001b[0mViewsAfrica\u001b[0m\u001b[0;34m(\u001b[0m\u001b[0;34m\u001b[0m\n",
       "\u001b[0;34m\u001b[0m    \u001b[0mwidth\u001b[0m\u001b[0;34m=\u001b[0m\u001b[0;36m10\u001b[0m\u001b[0;34m,\u001b[0m\u001b[0;34m\u001b[0m\n",
       "\u001b[0;34m\u001b[0m    \u001b[0mheight\u001b[0m\u001b[0;34m=\u001b[0m\u001b[0;36m10\u001b[0m\u001b[0;34m,\u001b[0m\u001b[0;34m\u001b[0m\n",
       "\u001b[0;34m\u001b[0m    \u001b[0mbbox\u001b[0m\u001b[0;34m=\u001b[0m\u001b[0;34m[\u001b[0m\u001b[0;34m-\u001b[0m\u001b[0;36m18.5\u001b[0m\u001b[0;34m,\u001b[0m \u001b[0;36m52.0\u001b[0m\u001b[0;34m,\u001b[0m \u001b[0;34m-\u001b[0m\u001b[0;36m35.5\u001b[0m\u001b[0;34m,\u001b[0m \u001b[0;36m38.0\u001b[0m\u001b[0;34m]\u001b[0m\u001b[0;34m,\u001b[0m\u001b[0;34m\u001b[0m\n",
       "\u001b[0;34m\u001b[0m    \u001b[0mcmap\u001b[0m\u001b[0;34m=\u001b[0m\u001b[0;34m'viridis'\u001b[0m\u001b[0;34m,\u001b[0m\u001b[0;34m\u001b[0m\n",
       "\u001b[0;34m\u001b[0m    \u001b[0mframe_on\u001b[0m\u001b[0;34m=\u001b[0m\u001b[0;32mTrue\u001b[0m\u001b[0;34m,\u001b[0m\u001b[0;34m\u001b[0m\n",
       "\u001b[0;34m\u001b[0m    \u001b[0mtitle\u001b[0m\u001b[0;34m=\u001b[0m\u001b[0;34m''\u001b[0m\u001b[0;34m,\u001b[0m\u001b[0;34m\u001b[0m\n",
       "\u001b[0;34m\u001b[0m    \u001b[0mlabel\u001b[0m\u001b[0;34m=\u001b[0m\u001b[0;34m''\u001b[0m\u001b[0;34m,\u001b[0m\u001b[0;34m\u001b[0m\n",
       "\u001b[0;34m\u001b[0m    \u001b[0mscale\u001b[0m\u001b[0;34m=\u001b[0m\u001b[0;32mNone\u001b[0m\u001b[0;34m,\u001b[0m\u001b[0;34m\u001b[0m\n",
       "\u001b[0;34m\u001b[0m    \u001b[0mvmin\u001b[0m\u001b[0;34m=\u001b[0m\u001b[0;32mNone\u001b[0m\u001b[0;34m,\u001b[0m\u001b[0;34m\u001b[0m\n",
       "\u001b[0;34m\u001b[0m    \u001b[0mvmax\u001b[0m\u001b[0;34m=\u001b[0m\u001b[0;32mNone\u001b[0m\u001b[0;34m,\u001b[0m\u001b[0;34m\u001b[0m\n",
       "\u001b[0;34m\u001b[0m    \u001b[0mtickparams\u001b[0m\u001b[0;34m=\u001b[0m\u001b[0;32mNone\u001b[0m\u001b[0;34m,\u001b[0m\u001b[0;34m\u001b[0m\n",
       "\u001b[0;34m\u001b[0m\u001b[0;34m)\u001b[0m\u001b[0;34m\u001b[0m\u001b[0;34m\u001b[0m\u001b[0m\n",
       "\u001b[0;31mDocstring:\u001b[0m     \n",
       "Inherits from Mapper. Runs methods on init that build the ViEWS defaults.\n",
       "\n",
       "Attributes\n",
       "----------\n",
       "title: Add a custom str title.\n",
       "label: Custom str label to add to textbox.\n",
       "scale: Scale to set map to. Either \"logodds\", \"prob\", \"delta\", or None.\n",
       "vmin: Minimum value of scale.\n",
       "vmax: Maximum value of scale.\n",
       "tickparams: Dictionary of custom tick parameters, by key-value pairs. For\n",
       "    example: {0.05: \"5%\", 0.1: \"10%\"}.\n",
       "\u001b[0;31mFile:\u001b[0m           ~/opt/miniconda3/envs/viewser/lib/python3.9/site-packages/views_dataviz/map/presets/views.py\n",
       "\u001b[0;31mType:\u001b[0m           type\n",
       "\u001b[0;31mSubclasses:\u001b[0m     \n"
      ]
     },
     "metadata": {},
     "output_type": "display_data"
    }
   ],
   "source": [
    "from views_dataviz.map.presets import ViewsAfrica\n",
    "?ViewsAfrica"
   ]
  }
 ],
 "metadata": {
  "kernelspec": {
   "display_name": "Python 3 (ipykernel)",
   "language": "python",
   "name": "python3"
  },
  "language_info": {
   "codemirror_mode": {
    "name": "ipython",
    "version": 3
   },
   "file_extension": ".py",
   "mimetype": "text/x-python",
   "name": "python",
   "nbconvert_exporter": "python",
   "pygments_lexer": "ipython3",
   "version": "3.9.7"
  }
 },
 "nbformat": 4,
 "nbformat_minor": 5
}
